{
  "cells": [
    {
      "cell_type": "markdown",
      "source": [
        "#  Other machine learning libraries and good things to know"
      ],
      "metadata": {
        "id": "RIU2AANd-JE-"
      }
    },
    {
      "cell_type": "markdown",
      "source": [
        "## An overview"
      ],
      "metadata": {
        "id": "ctl37IEwAhbZ"
      }
    },
    {
      "cell_type": "markdown",
      "source": [
        "![map](https://miro.medium.com/max/1400/1*N3oBASDtXTgpGLJkeO9v8w.jpeg)"
      ],
      "metadata": {
        "id": "uryp9wzxAudr"
      }
    },
    {
      "cell_type": "markdown",
      "source": [
        "https://medium.com/@BlueOrangeDigital/essential-python-libraries-for-machine-learning-projects-d5cef004cf60"
      ],
      "metadata": {
        "id": "_r7_PSq9BXZh"
      }
    },
    {
      "cell_type": "markdown",
      "source": [
        "## Markdown:  Not a Python library, but how you make pretty notebooks"
      ],
      "metadata": {
        "id": "MNIjtpbC-9fZ"
      }
    },
    {
      "cell_type": "markdown",
      "source": [
        "https://daringfireball.net/projects/markdown/\n",
        "\n",
        "> Markdown is a text-to-HTML conversion tool for web writers. Markdown allows you to write using an easy-to-read, easy-to-write plain text format, then convert it to structurally valid XHTML (or HTML).\n",
        "\n",
        "> Thus, “Markdown” is two things: (1) a plain text formatting syntax; and (2) a software tool, written in Perl, that converts the plain text formatting to HTML. See the Syntax page for details pertaining to Markdown’s formatting syntax. You can try it out, right now, using the online Dingus."
      ],
      "metadata": {
        "id": "8xgUi9jJ_Cqb"
      }
    },
    {
      "cell_type": "markdown",
      "source": [
        "### Getting started"
      ],
      "metadata": {
        "id": "7z-TAxv8_hxP"
      }
    },
    {
      "cell_type": "markdown",
      "source": [
        "https://wordpress.com/support/markdown-quick-reference/"
      ],
      "metadata": {
        "id": "zIGg9P5j_O3u"
      }
    },
    {
      "cell_type": "markdown",
      "source": [
        "https://docs.github.com/en/get-started/writing-on-github/getting-started-with-writing-and-formatting-on-github/basic-writing-and-formatting-syntax"
      ],
      "metadata": {
        "id": "8eDF1qZf_fdE"
      }
    },
    {
      "cell_type": "markdown",
      "source": [
        "### Latex too!"
      ],
      "metadata": {
        "id": "9Z33gnyJ_vLc"
      }
    },
    {
      "cell_type": "markdown",
      "source": [
        "https://ashki23.github.io/markdown-latex.html\n",
        "\n"
      ],
      "metadata": {
        "id": "fsqJQ9_O_t0V"
      }
    },
    {
      "cell_type": "markdown",
      "source": [
        "$$\n",
        "A_{m,n} = \n",
        "\\begin{pmatrix}\n",
        "a_{1,1} & a_{1,2} & \\cdots & a_{1,n} \\\\\n",
        "a_{2,1} & a_{2,2} & \\cdots & a_{2,n} \\\\\n",
        "\\vdots & \\vdots & \\ddots & \\vdots \\\\\n",
        "a_{m,1} & a_{m,2} & \\cdots & a_{m,n} \n",
        "\\end{pmatrix}\n",
        "$$"
      ],
      "metadata": {
        "id": "bMJuVfRpklvq"
      }
    },
    {
      "cell_type": "markdown",
      "source": [
        "## Numpy:  Making Python look like Matlab.   Matrices, vectors, and linear algebra, oh my!"
      ],
      "metadata": {
        "id": "AFFiOQQhBrLM"
      }
    },
    {
      "cell_type": "markdown",
      "source": [
        "> Using NumPy in Python gives functionality comparable to MATLAB since they are both interpreted,[20] and they both allow the user to write fast programs as long as most operations work on arrays or matrices instead of scalars."
      ],
      "metadata": {
        "id": "hiE3ZeF7IkZi"
      }
    },
    {
      "cell_type": "markdown",
      "source": [
        "https://numpy.org/doc/stable/index.html"
      ],
      "metadata": {
        "id": "R0KiM4x6E97K"
      }
    },
    {
      "cell_type": "markdown",
      "source": [
        "https://numpy.org/doc/stable/user/quickstart.html"
      ],
      "metadata": {
        "id": "-86IWA70FDsd"
      }
    },
    {
      "cell_type": "markdown",
      "source": [
        "What we have seen already"
      ],
      "metadata": {
        "id": "C2D6JE-RkpCc"
      }
    },
    {
      "cell_type": "code",
      "source": [
        "import numpy as np\n",
        "# Generate data\n",
        "number_of_points = 10\n",
        "x = np.random.uniform(0, 1, size=number_of_points)\n",
        "\n",
        "true_a = 1.0\n",
        "true_b = 0.5\n",
        "\n",
        "mu = 0.0\n",
        "sigma = 0.1\n",
        "noise = np.random.normal(loc=mu, scale=sigma, size=number_of_points)\n",
        "\n",
        "y = true_a*x + true_b + noise"
      ],
      "metadata": {
        "id": "WMKS9F8lEtNw"
      },
      "execution_count": 2,
      "outputs": []
    },
    {
      "cell_type": "code",
      "source": [
        "deg = 1\n",
        "\n",
        "# Lots of math magic in here!\n",
        "z = np.polyfit(x, y, deg=deg)\n",
        "y_hat_function = np.poly1d(z)"
      ],
      "metadata": {
        "id": "_xavQPTHCHn3"
      },
      "execution_count": 3,
      "outputs": []
    },
    {
      "cell_type": "markdown",
      "source": [
        "## Matplotlib:  Plotting"
      ],
      "metadata": {
        "id": "yftOIPaiBv1d"
      }
    },
    {
      "cell_type": "markdown",
      "source": [
        "> Matplotlib is a comprehensive library for creating static, animated, and interactive visualizations in Python. Matplotlib makes easy things easy and hard things possible.\n",
        "\n",
        "> * Create publication quality plots.\n",
        "* Make interactive figures that can zoom, pan, update.\n",
        "* Customize visual style and layout.\n",
        "* Export to many file formats .\n",
        "* Embed in JupyterLab and Graphical  User Interfaces.\n",
        "* Use a rich array of third-party packages built on Matplotlib."
      ],
      "metadata": {
        "id": "THa_FXH1IrLd"
      }
    },
    {
      "cell_type": "markdown",
      "source": [
        "https://matplotlib.org/stable/tutorials/introductory/usage.html"
      ],
      "metadata": {
        "id": "2zqih83-FM66"
      }
    },
    {
      "cell_type": "markdown",
      "source": [
        "https://matplotlib.org/stable/tutorials/index"
      ],
      "metadata": {
        "id": "szehbesKCIiG"
      }
    },
    {
      "cell_type": "markdown",
      "source": [
        "Even better... many, many examples!\n",
        "\n",
        "https://matplotlib.org/stable/gallery/index.html"
      ],
      "metadata": {
        "id": "eW_uejvvlLGK"
      }
    },
    {
      "cell_type": "code",
      "source": [
        "import matplotlib.pylab as py\n",
        "x_on_grid = np.arange(0,1,0.01)\n",
        "y_predictions_on_grid = y_hat_function(x_on_grid)\n",
        "\n",
        "py.scatter(x, y, color='green')\n",
        "py.scatter(x_on_grid, y_predictions_on_grid, color='cyan')\n",
        "\n",
        "py.xlabel('Presure of the awesome process')\n",
        "py.ylabel('Temperature of the awesome process');"
      ],
      "metadata": {
        "colab": {
          "base_uri": "https://localhost:8080/",
          "height": 279
        },
        "id": "8lMnBI4CEhLE",
        "outputId": "a03c7136-5a37-46ca-c937-e3b8b9f9b9b2"
      },
      "execution_count": 5,
      "outputs": [
        {
          "output_type": "display_data",
          "data": {
            "text/plain": [
              "<Figure size 432x288 with 1 Axes>"
            ],
            "image/png": "[encoded data removed]"
          },
          "metadata": {
            "needs_background": "light"
          }
        }
      ]
    },
    {
      "cell_type": "markdown",
      "source": [
        "## Pandas:  A great place to store your data.  Think Excel spreadsheet, but in Python"
      ],
      "metadata": {
        "id": "J2JzISROBwA3"
      }
    },
    {
      "cell_type": "markdown",
      "source": [
        "> pandas is a fast, powerful, flexible and easy to use open source data analysis and manipulation tool,\n",
        "built on top of the Python programming language."
      ],
      "metadata": {
        "id": "qC-E3VqrlUtm"
      }
    },
    {
      "cell_type": "markdown",
      "source": [
        "https://pandas.pydata.org/docs/index.html"
      ],
      "metadata": {
        "id": "hWy2MTFnFY73"
      }
    },
    {
      "cell_type": "markdown",
      "source": [
        "https://pandas.pydata.org/docs/getting_started/index.html"
      ],
      "metadata": {
        "id": "nMREBIQQCJR1"
      }
    },
    {
      "cell_type": "code",
      "source": [
        "import numpy as np\n",
        "import matplotlib.pyplot as plt  # To visualize\n",
        "import pandas as pd  # To read data\n",
        "from sklearn.linear_model import LinearRegression"
      ],
      "metadata": {
        "id": "N1KoitaQFkQL"
      },
      "execution_count": 6,
      "outputs": []
    },
    {
      "cell_type": "code",
      "source": [
        "data = pd.DataFrame(data={'x':x, 'y':y})\n",
        "data"
      ],
      "metadata": {
        "colab": {
          "base_uri": "https://localhost:8080/",
          "height": 363
        },
        "id": "zzeqHT-AFtez",
        "outputId": "902b50f1-ce46-4377-bb9c-d8f95d5d5763"
      },
      "execution_count": 7,
      "outputs": [
        {
          "output_type": "execute_result",
          "data": {
            "text/plain": [
              "          x         y\n",
              "0  0.634732  1.162707\n",
              "1  0.392146  0.920136\n",
              "2  0.623087  1.175908\n",
              "3  0.292229  0.884305\n",
              "4  0.129319  0.758272\n",
              "5  0.980763  1.395880\n",
              "6  0.538432  1.125857\n",
              "7  0.630931  1.118790\n",
              "8  0.776047  1.393087\n",
              "9  0.739749  1.324515"
            ],
            "text/html": [
              "\n",
              "  <div id=\"df-88a8557c-0283-466c-af5d-9c5f809cd24f\">\n",
              "    <div class=\"colab-df-container\">\n",
              "      <div>\n",
              "<style scoped>\n",
              "    .dataframe tbody tr th:only-of-type {\n",
              "        vertical-align: middle;\n",
              "    }\n",
              "\n",
              "    .dataframe tbody tr th {\n",
              "        vertical-align: top;\n",
              "    }\n",
              "\n",
              "    .dataframe thead th {\n",
              "        text-align: right;\n",
              "    }\n",
              "</style>\n",
              "<table border=\"1\" class=\"dataframe\">\n",
              "  <thead>\n",
              "    <tr style=\"text-align: right;\">\n",
              "      <th></th>\n",
              "      <th>x</th>\n",
              "      <th>y</th>\n",
              "    </tr>\n",
              "  </thead>\n",
              "  <tbody>\n",
              "    <tr>\n",
              "      <th>0</th>\n",
              "      <td>0.634732</td>\n",
              "      <td>1.162707</td>\n",
              "    </tr>\n",
              "    <tr>\n",
              "      <th>1</th>\n",
              "      <td>0.392146</td>\n",
              "      <td>0.920136</td>\n",
              "    </tr>\n",
              "    <tr>\n",
              "      <th>2</th>\n",
              "      <td>0.623087</td>\n",
              "      <td>1.175908</td>\n",
              "    </tr>\n",
              "    <tr>\n",
              "      <th>3</th>\n",
              "      <td>0.292229</td>\n",
              "      <td>0.884305</td>\n",
              "    </tr>\n",
              "    <tr>\n",
              "      <th>4</th>\n",
              "      <td>0.129319</td>\n",
              "      <td>0.758272</td>\n",
              "    </tr>\n",
              "    <tr>\n",
              "      <th>5</th>\n",
              "      <td>0.980763</td>\n",
              "      <td>1.395880</td>\n",
              "    </tr>\n",
              "    <tr>\n",
              "      <th>6</th>\n",
              "      <td>0.538432</td>\n",
              "      <td>1.125857</td>\n",
              "    </tr>\n",
              "    <tr>\n",
              "      <th>7</th>\n",
              "      <td>0.630931</td>\n",
              "      <td>1.118790</td>\n",
              "    </tr>\n",
              "    <tr>\n",
              "      <th>8</th>\n",
              "      <td>0.776047</td>\n",
              "      <td>1.393087</td>\n",
              "    </tr>\n",
              "    <tr>\n",
              "      <th>9</th>\n",
              "      <td>0.739749</td>\n",
              "      <td>1.324515</td>\n",
              "    </tr>\n",
              "  </tbody>\n",
              "</table>\n",
              "</div>\n",
              "      <button class=\"colab-df-convert\" onclick=\"convertToInteractive('df-88a8557c-0283-466c-af5d-9c5f809cd24f')\"\n",
              "              title=\"Convert this dataframe to an interactive table.\"\n",
              "              style=\"display:none;\">\n",
              "        \n",
              "  <svg xmlns=\"http://www.w3.org/2000/svg\" height=\"24px\"viewBox=\"0 0 24 24\"\n",
              "       width=\"24px\">\n",
              "    <path d=\"M0 0h24v24H0V0z\" fill=\"none\"/>\n",
              "    <path d=\"M18.56 5.44l.94 2.06.94-2.06 2.06-.94-2.06-.94-.94-2.06-.94 2.06-2.06.94zm-11 1L8.5 8.5l.94-2.06 2.06-.94-2.06-.94L8.5 2.5l-.94 2.06-2.06.94zm10 10l.94 2.06.94-2.06 2.06-.94-2.06-.94-.94-2.06-.94 2.06-2.06.94z\"/><path d=\"M17.41 7.96l-1.37-1.37c-.4-.4-.92-.59-1.43-.59-.52 0-1.04.2-1.43.59L10.3 9.45l-7.72 7.72c-.78.78-.78 2.05 0 2.83L4 21.41c.39.39.9.59 1.41.59.51 0 1.02-.2 1.41-.59l7.78-7.78 2.81-2.81c.8-.78.8-2.07 0-2.86zM5.41 20L4 18.59l7.72-7.72 1.47 1.35L5.41 20z\"/>\n",
              "  </svg>\n",
              "      </button>\n",
              "      \n",
              "  <style>\n",
              "    .colab-df-container {\n",
              "      display:flex;\n",
              "      flex-wrap:wrap;\n",
              "      gap: 12px;\n",
              "    }\n",
              "\n",
              "    .colab-df-convert {\n",
              "      background-color: #E8F0FE;\n",
              "      border: none;\n",
              "      border-radius: 50%;\n",
              "      cursor: pointer;\n",
              "      display: none;\n",
              "      fill: #1967D2;\n",
              "      height: 32px;\n",
              "      padding: 0 0 0 0;\n",
              "      width: 32px;\n",
              "    }\n",
              "\n",
              "    .colab-df-convert:hover {\n",
              "      background-color: #E2EBFA;\n",
              "      box-shadow: 0px 1px 2px rgba(60, 64, 67, 0.3), 0px 1px 3px 1px rgba(60, 64, 67, 0.15);\n",
              "      fill: #174EA6;\n",
              "    }\n",
              "\n",
              "    [theme=dark] .colab-df-convert {\n",
              "      background-color: #3B4455;\n",
              "      fill: #D2E3FC;\n",
              "    }\n",
              "\n",
              "    [theme=dark] .colab-df-convert:hover {\n",
              "      background-color: #434B5C;\n",
              "      box-shadow: 0px 1px 3px 1px rgba(0, 0, 0, 0.15);\n",
              "      filter: drop-shadow(0px 1px 2px rgba(0, 0, 0, 0.3));\n",
              "      fill: #FFFFFF;\n",
              "    }\n",
              "  </style>\n",
              "\n",
              "      <script>\n",
              "        const buttonEl =\n",
              "          document.querySelector('#df-88a8557c-0283-466c-af5d-9c5f809cd24f button.colab-df-convert');\n",
              "        buttonEl.style.display =\n",
              "          google.colab.kernel.accessAllowed ? 'block' : 'none';\n",
              "\n",
              "        async function convertToInteractive(key) {\n",
              "          const element = document.querySelector('#df-88a8557c-0283-466c-af5d-9c5f809cd24f');\n",
              "          const dataTable =\n",
              "            await google.colab.kernel.invokeFunction('convertToInteractive',\n",
              "                                                     [key], {});\n",
              "          if (!dataTable) return;\n",
              "\n",
              "          const docLinkHtml = 'Like what you see? Visit the ' +\n",
              "            '<a target=\"_blank\" href=https://colab.research.google.com/notebooks/data_table.ipynb>data table notebook</a>'\n",
              "            + ' to learn more about interactive tables.';\n",
              "          element.innerHTML = '';\n",
              "          dataTable['output_type'] = 'display_data';\n",
              "          await google.colab.output.renderOutput(dataTable, element);\n",
              "          const docLink = document.createElement('div');\n",
              "          docLink.innerHTML = docLinkHtml;\n",
              "          element.appendChild(docLink);\n",
              "        }\n",
              "      </script>\n",
              "    </div>\n",
              "  </div>\n",
              "  "
            ]
          },
          "metadata": {},
          "execution_count": 7
        }
      ]
    },
    {
      "cell_type": "code",
      "source": [
        "deg = 1\n",
        "\n",
        "# Lots of math magic in here!\n",
        "z = np.polyfit(data['x'], data['y'], deg=deg)\n",
        "y_hat_function = np.poly1d(z)\n",
        "data['y_hat'] = y_hat_function(data['x'])"
      ],
      "metadata": {
        "id": "uA8kUNNWGPz8"
      },
      "execution_count": 8,
      "outputs": []
    },
    {
      "cell_type": "markdown",
      "source": [
        "Pandas makes visualization easy too!\n",
        "\n",
        "https://pandas.pydata.org/pandas-docs/stable/user_guide/visualization.html"
      ],
      "metadata": {
        "id": "wqr0YML4HAnm"
      }
    },
    {
      "cell_type": "code",
      "source": [
        "ax = data.plot(x='x',y='y', kind='scatter')\n",
        "data.plot(x='x',y='y_hat', kind='line', ax=ax)\n"
      ],
      "metadata": {
        "colab": {
          "base_uri": "https://localhost:8080/",
          "height": 298
        },
        "id": "3eoZ5JbPG1aW",
        "outputId": "63977e18-054b-4758-b347-fa955e3a7f2e"
      },
      "execution_count": 9,
      "outputs": [
        {
          "output_type": "execute_result",
          "data": {
            "text/plain": [
              "<matplotlib.axes._subplots.AxesSubplot at 0x7fc222434350>"
            ]
          },
          "metadata": {},
          "execution_count": 9
        },
        {
          "output_type": "display_data",
          "data": {
            "text/plain": [
              "<Figure size 432x288 with 1 Axes>"
            ],
            "image/png": "[encoded data removed]"
          },
          "metadata": {
            "needs_background": "light"
          }
        }
      ]
    },
    {
      "cell_type": "markdown",
      "source": [
        "## Stasmodels:  All the math!"
      ],
      "metadata": {
        "id": "i_SWOmnsKv6y"
      }
    },
    {
      "cell_type": "markdown",
      "source": [
        "> statsmodels is a Python module that provides classes and functions for the estimation of many different statistical models, as well as for conducting statistical tests, and statistical data exploration. An extensive list of result statistics are available for each estimator. The results are tested against existing statistical packages to ensure that they are correct. The package is released under the open source Modified BSD (3-clause) license. The online documentation is hosted at statsmodels.org."
      ],
      "metadata": {
        "id": "qh-IupEHLVo1"
      }
    },
    {
      "cell_type": "markdown",
      "source": [
        "https://www.statsmodels.org/stable/index.html"
      ],
      "metadata": {
        "id": "56y2Gx-fLTX0"
      }
    },
    {
      "cell_type": "code",
      "source": [
        "import statsmodels.formula.api as smf"
      ],
      "metadata": {
        "id": "766kLVEyK0mU",
        "outputId": "dcebaad9-0e0a-4fd0-a247-1f4fbaf4c28d",
        "colab": {
          "base_uri": "https://localhost:8080/"
        }
      },
      "execution_count": 10,
      "outputs": [
        {
          "output_type": "stream",
          "name": "stderr",
          "text": [
            "/usr/local/lib/python3.7/dist-packages/statsmodels/tools/_testing.py:19: FutureWarning: pandas.util.testing is deprecated. Use the functions in the public API at pandas.testing instead.\n",
            "  import pandas.util.testing as tm\n"
          ]
        }
      ]
    },
    {
      "cell_type": "code",
      "source": [
        "results = smf.ols('y ~ x', data=data).fit()"
      ],
      "metadata": {
        "id": "VZaG2OD6K50J"
      },
      "execution_count": 11,
      "outputs": []
    },
    {
      "cell_type": "markdown",
      "source": [
        "What does all this mean?"
      ],
      "metadata": {
        "id": "YyEIpjSvLGWC"
      }
    },
    {
      "cell_type": "code",
      "source": [
        "print(results.summary())"
      ],
      "metadata": {
        "colab": {
          "base_uri": "https://localhost:8080/"
        },
        "id": "i_VhQFDULDpY",
        "outputId": "7d814a46-bba3-4459-991c-4ae81ce8b645"
      },
      "execution_count": 12,
      "outputs": [
        {
          "output_type": "stream",
          "name": "stdout",
          "text": [
            "                            OLS Regression Results                            \n",
            "==============================================================================\n",
            "Dep. Variable:                      y   R-squared:                       0.941\n",
            "Model:                            OLS   Adj. R-squared:                  0.933\n",
            "Method:                 Least Squares   F-statistic:                     126.5\n",
            "Date:                Mon, 13 Jun 2022   Prob (F-statistic):           3.51e-06\n",
            "Time:                        19:07:27   Log-Likelihood:                 15.730\n",
            "No. Observations:                  10   AIC:                            -27.46\n",
            "Df Residuals:                       8   BIC:                            -26.85\n",
            "Df Model:                           1                                         \n",
            "Covariance Type:            nonrobust                                         \n",
            "==============================================================================\n",
            "                 coef    std err          t      P>|t|      [0.025      0.975]\n",
            "------------------------------------------------------------------------------\n",
            "Intercept      0.6397      0.047     13.688      0.000       0.532       0.747\n",
            "x              0.8475      0.075     11.247      0.000       0.674       1.021\n",
            "==============================================================================\n",
            "Omnibus:                        0.263   Durbin-Watson:                   2.180\n",
            "Prob(Omnibus):                  0.877   Jarque-Bera (JB):                0.354\n",
            "Skew:                           0.285   Prob(JB):                        0.838\n",
            "Kurtosis:                       2.276   Cond. No.                         5.70\n",
            "==============================================================================\n",
            "\n",
            "Warnings:\n",
            "[1] Standard Errors assume that the covariance matrix of the errors is correctly specified.\n"
          ]
        },
        {
          "output_type": "stream",
          "name": "stderr",
          "text": [
            "/usr/local/lib/python3.7/dist-packages/scipy/stats/stats.py:1535: UserWarning: kurtosistest only valid for n>=20 ... continuing anyway, n=10\n",
            "  \"anyway, n=%i\" % int(n))\n"
          ]
        }
      ]
    },
    {
      "cell_type": "markdown",
      "source": [
        "## Seaborn:  Classic statistical analysis made easy"
      ],
      "metadata": {
        "id": "-TdiYBL7-N2x"
      }
    },
    {
      "cell_type": "markdown",
      "source": [
        "https://seaborn.pydata.org/\n",
        "\n",
        "> Seaborn is a Python data visualization library based on matplotlib. It provides a high-level interface for drawing attractive and informative statistical graphics.\n",
        "\n",
        "> For a brief introduction to the ideas behind the library, you can read the introductory notes or the paper. Visit the installation page to see how you can download the package and get started with it. You can browse the example gallery to see some of the things that you can do with seaborn, and then check out the tutorial or API reference to find out how."
      ],
      "metadata": {
        "id": "lin1Kt6d-TdR"
      }
    },
    {
      "cell_type": "code",
      "source": [
        "import seaborn as sns"
      ],
      "metadata": {
        "id": "2vMUxQsZJKAl"
      },
      "execution_count": 13,
      "outputs": []
    },
    {
      "cell_type": "markdown",
      "source": [
        "One command!"
      ],
      "metadata": {
        "id": "_YWSAiKrJPED"
      }
    },
    {
      "cell_type": "markdown",
      "source": [
        "https://seaborn.pydata.org/tutorial/regression.html"
      ],
      "metadata": {
        "id": "NN45nKnvJbJr"
      }
    },
    {
      "cell_type": "code",
      "source": [
        "sns.regplot(x=\"x\", y=\"y\", data=data)"
      ],
      "metadata": {
        "id": "D3wOM8cxIUNn",
        "colab": {
          "base_uri": "https://localhost:8080/",
          "height": 296
        },
        "outputId": "5c3ec0ce-df60-4f9f-c825-50cb4d66b607"
      },
      "execution_count": 14,
      "outputs": [
        {
          "output_type": "execute_result",
          "data": {
            "text/plain": [
              "<matplotlib.axes._subplots.AxesSubplot at 0x7fc216a13550>"
            ]
          },
          "metadata": {},
          "execution_count": 14
        },
        {
          "output_type": "display_data",
          "data": {
            "text/plain": [
              "<Figure size 432x288 with 1 Axes>"
            ],
            "image/png": "[encoded data removed]"
          },
          "metadata": {
            "needs_background": "light"
          }
        }
      ]
    },
    {
      "cell_type": "markdown",
      "source": [
        "What is that light blue area!?"
      ],
      "metadata": {
        "id": "1rnfgJgdlz7M"
      }
    },
    {
      "cell_type": "markdown",
      "source": [
        "## Scikit Learn:  Machine Learning made easy.\n",
        "\n"
      ],
      "metadata": {
        "id": "WEzdTYXF-Nme"
      }
    },
    {
      "cell_type": "markdown",
      "source": [
        "> Simple and efficient tools for predictive data analysis\n",
        "Accessible to everybody, and reusable in various contexts\n",
        "Built on NumPy, SciPy, and matplotlib\n",
        "Open source, commercially usable - BSD license"
      ],
      "metadata": {
        "id": "XHpUGAHqCKBk"
      }
    },
    {
      "cell_type": "markdown",
      "source": [
        "![map](https://scikit-learn.org/stable/_static/ml_map.png)"
      ],
      "metadata": {
        "id": "D4VnlPu0MAsM"
      }
    },
    {
      "cell_type": "markdown",
      "source": [
        "https://scikit-learn.org/stable/"
      ],
      "metadata": {
        "id": "4VrlUO7DL0t8"
      }
    },
    {
      "cell_type": "markdown",
      "source": [
        "Again, many, many examples!\n",
        "\n",
        "https://scikit-learn.org/stable/auto_examples/index.html"
      ],
      "metadata": {
        "id": "SgBUqYrFL46p"
      }
    },
    {
      "cell_type": "code",
      "source": [
        "# Generate data\n",
        "number_of_points = 100\n",
        "x = np.random.uniform(0, 1, size=number_of_points)\n",
        "\n",
        "true_a = 1.0\n",
        "true_b = 0.5\n",
        "\n",
        "mu = 0.0\n",
        "sigma = 0.1\n",
        "noise = np.random.normal(loc=mu, scale=sigma, size=number_of_points)\n",
        "\n",
        "y = true_a*x + true_b + noise"
      ],
      "metadata": {
        "id": "7V_1PwRYNMQW"
      },
      "execution_count": 15,
      "outputs": []
    },
    {
      "cell_type": "code",
      "source": [
        "from sklearn.linear_model import LinearRegression\n",
        "\n",
        "# Make x into a 2D array\n",
        "X = x.reshape(-1,1)\n",
        "reg = LinearRegression().fit(X, y)\n"
      ],
      "metadata": {
        "id": "yID8kHpAGJ9l"
      },
      "execution_count": 16,
      "outputs": []
    },
    {
      "cell_type": "code",
      "source": [
        "reg.coef_\n"
      ],
      "metadata": {
        "colab": {
          "base_uri": "https://localhost:8080/"
        },
        "id": "gdYJ8qA3NEoE",
        "outputId": "d11e0b3d-4683-4ed2-8261-f97ca1d0915f"
      },
      "execution_count": 17,
      "outputs": [
        {
          "output_type": "execute_result",
          "data": {
            "text/plain": [
              "array([0.98580996])"
            ]
          },
          "metadata": {},
          "execution_count": 17
        }
      ]
    },
    {
      "cell_type": "code",
      "source": [
        "reg.intercept_\n"
      ],
      "metadata": {
        "colab": {
          "base_uri": "https://localhost:8080/"
        },
        "id": "rFtkZC3mNFVn",
        "outputId": "8176a3ef-b99e-4cf9-ffce-0cc329526adf"
      },
      "execution_count": 18,
      "outputs": [
        {
          "output_type": "execute_result",
          "data": {
            "text/plain": [
              "0.5016068710382668"
            ]
          },
          "metadata": {},
          "execution_count": 18
        }
      ]
    },
    {
      "cell_type": "code",
      "source": [
        "y_hat = reg.predict(X)\n",
        "py.scatter(x,y)\n",
        "py.plot(x,y_hat)"
      ],
      "metadata": {
        "colab": {
          "base_uri": "https://localhost:8080/",
          "height": 286
        },
        "id": "gl6CO7oyNFzX",
        "outputId": "eed45a85-71f2-48cd-cf13-c03e98236575"
      },
      "execution_count": 19,
      "outputs": [
        {
          "output_type": "execute_result",
          "data": {
            "text/plain": [
              "[<matplotlib.lines.Line2D at 0x7fc216959150>]"
            ]
          },
          "metadata": {},
          "execution_count": 19
        },
        {
          "output_type": "display_data",
          "data": {
            "text/plain": [
              "<Figure size 432x288 with 1 Axes>"
            ],
            "image/png": "[encoded data removed]"
          },
          "metadata": {
            "needs_background": "light"
          }
        }
      ]
    },
    {
      "cell_type": "markdown",
      "source": [
        "### Super important.  How well are we doing?"
      ],
      "metadata": {
        "id": "Ju4HGqQKcxvm"
      }
    },
    {
      "cell_type": "code",
      "source": [
        "# Generate data\n",
        "number_of_points = 20\n",
        "x = np.random.uniform(0, 1, size=number_of_points)\n",
        "\n",
        "true_a = 1.0\n",
        "true_b = 0.5\n",
        "\n",
        "mu = 0.0\n",
        "sigma = 0.1\n",
        "noise = np.random.normal(loc=mu, scale=sigma, size=number_of_points)\n",
        "\n",
        "y = true_a*x + true_b + noise\n",
        "\n",
        "# Make x into a 2D array\n",
        "X = x.reshape(-1,1)"
      ],
      "metadata": {
        "id": "Nq0IQGw7P3RS"
      },
      "execution_count": 20,
      "outputs": []
    },
    {
      "cell_type": "code",
      "source": [
        "from sklearn.utils import resample\n",
        "\n",
        "X_new, y_new = resample(X, y)\n",
        "reg = LinearRegression().fit(X_new, y_new)\n",
        "y_hat_new = reg.predict(X_new)\n",
        "py.scatter(X_new[:,0],y_new)\n",
        "py.plot(X_new[:,0],y_hat_new)"
      ],
      "metadata": {
        "colab": {
          "base_uri": "https://localhost:8080/",
          "height": 282
        },
        "id": "yUV3f3AiOMk5",
        "outputId": "b604eb40-e48d-4c12-ba49-93182f2c3fea"
      },
      "execution_count": 21,
      "outputs": [
        {
          "output_type": "execute_result",
          "data": {
            "text/plain": [
              "[<matplotlib.lines.Line2D at 0x7fc2168c3810>]"
            ]
          },
          "metadata": {},
          "execution_count": 21
        },
        {
          "output_type": "display_data",
          "data": {
            "text/plain": [
              "<Figure size 432x288 with 1 Axes>"
            ],
            "image/png": "[encoded data removed]"
          },
          "metadata": {
            "needs_background": "light"
          }
        }
      ]
    },
    {
      "cell_type": "code",
      "source": [
        "for c in ['r', 'g', 'b']:\n",
        "  X_new, y_new = resample(X, y)\n",
        "  reg = LinearRegression().fit(X_new, y_new)\n",
        "  y_hat_new = reg.predict(X_new)\n",
        "  py.scatter(X_new[:,0], y_new, color=c)\n",
        "  py.plot(X_new[:,0], y_hat_new, color=c)"
      ],
      "metadata": {
        "colab": {
          "base_uri": "https://localhost:8080/",
          "height": 265
        },
        "id": "NGccykx8Pmsi",
        "outputId": "0a85b243-c3cc-4e04-8366-1080449043e2"
      },
      "execution_count": 22,
      "outputs": [
        {
          "output_type": "display_data",
          "data": {
            "text/plain": [
              "<Figure size 432x288 with 1 Axes>"
            ],
            "image/png": "[encoded data removed]"
          },
          "metadata": {
            "needs_background": "light"
          }
        }
      ]
    },
    {
      "cell_type": "code",
      "source": [
        "b0 =[]\n",
        "b1 = []\n",
        "for i in range(1000):\n",
        "  X_new, y_new = resample(X, y)\n",
        "  reg = LinearRegression().fit(X_new, y_new)\n",
        "  b0 += [reg.intercept_]\n",
        "  b1 += [reg.coef_[0]]"
      ],
      "metadata": {
        "id": "RM07ka1tQK4X"
      },
      "execution_count": 23,
      "outputs": []
    },
    {
      "cell_type": "code",
      "source": [
        "py.hist(b0)"
      ],
      "metadata": {
        "colab": {
          "base_uri": "https://localhost:8080/",
          "height": 352
        },
        "id": "H1gDVkqaQbtv",
        "outputId": "c3ae1b2c-2165-4809-e1ca-0ceb20ad31b1"
      },
      "execution_count": 24,
      "outputs": [
        {
          "output_type": "execute_result",
          "data": {
            "text/plain": [
              "(array([ 29.,  90., 194., 277., 221., 110.,  58.,  15.,   3.,   3.]),\n",
              " array([0.38270754, 0.40320268, 0.42369781, 0.44419295, 0.46468808,\n",
              "        0.48518322, 0.50567836, 0.52617349, 0.54666863, 0.56716376,\n",
              "        0.5876589 ]),\n",
              " <a list of 10 Patch objects>)"
            ]
          },
          "metadata": {},
          "execution_count": 24
        },
        {
          "output_type": "display_data",
          "data": {
            "text/plain": [
              "<Figure size 432x288 with 1 Axes>"
            ],
            "image/png": "[encoded data removed]"
          },
          "metadata": {
            "needs_background": "light"
          }
        }
      ]
    },
    {
      "cell_type": "code",
      "source": [
        "py.hist(b1)"
      ],
      "metadata": {
        "colab": {
          "base_uri": "https://localhost:8080/",
          "height": 352
        },
        "id": "U8yqeISMQgoW",
        "outputId": "0ec9b902-d48b-4398-f280-ef85e0382dfb"
      },
      "execution_count": 25,
      "outputs": [
        {
          "output_type": "execute_result",
          "data": {
            "text/plain": [
              "(array([  4.,  13.,  45., 121., 225., 227., 197.,  95.,  52.,  21.]),\n",
              " array([0.8439341 , 0.88010249, 0.91627089, 0.95243928, 0.98860768,\n",
              "        1.02477607, 1.06094447, 1.09711286, 1.13328126, 1.16944965,\n",
              "        1.20561805]),\n",
              " <a list of 10 Patch objects>)"
            ]
          },
          "metadata": {},
          "execution_count": 25
        },
        {
          "output_type": "display_data",
          "data": {
            "text/plain": [
              "<Figure size 432x288 with 1 Axes>"
            ],
            "image/png": "[encoded data removed]"
          },
          "metadata": {
            "needs_background": "light"
          }
        }
      ]
    },
    {
      "cell_type": "code",
      "source": [
        "data = pd.DataFrame({'x':x, 'y':y})\n",
        "results = smf.ols('y ~ x', data=data).fit()\n",
        "print(results.summary())"
      ],
      "metadata": {
        "colab": {
          "base_uri": "https://localhost:8080/"
        },
        "id": "zuia5eSeQqVi",
        "outputId": "827583ef-e211-48f4-f6e4-722289f65287"
      },
      "execution_count": 26,
      "outputs": [
        {
          "output_type": "stream",
          "name": "stdout",
          "text": [
            "                            OLS Regression Results                            \n",
            "==============================================================================\n",
            "Dep. Variable:                      y   R-squared:                       0.950\n",
            "Model:                            OLS   Adj. R-squared:                  0.948\n",
            "Method:                 Least Squares   F-statistic:                     344.8\n",
            "Date:                Mon, 13 Jun 2022   Prob (F-statistic):           3.45e-13\n",
            "Time:                        19:07:45   Log-Likelihood:                 26.441\n",
            "No. Observations:                  20   AIC:                            -48.88\n",
            "Df Residuals:                      18   BIC:                            -46.89\n",
            "Df Model:                           1                                         \n",
            "Covariance Type:            nonrobust                                         \n",
            "==============================================================================\n",
            "                 coef    std err          t      P>|t|      [0.025      0.975]\n",
            "------------------------------------------------------------------------------\n",
            "Intercept      0.4615      0.031     15.109      0.000       0.397       0.526\n",
            "x              1.0367      0.056     18.570      0.000       0.919       1.154\n",
            "==============================================================================\n",
            "Omnibus:                        1.269   Durbin-Watson:                   1.665\n",
            "Prob(Omnibus):                  0.530   Jarque-Bera (JB):                0.891\n",
            "Skew:                           0.171   Prob(JB):                        0.640\n",
            "Kurtosis:                       2.024   Cond. No.                         4.55\n",
            "==============================================================================\n",
            "\n",
            "Warnings:\n",
            "[1] Standard Errors assume that the covariance matrix of the errors is correctly specified.\n"
          ]
        }
      ]
    },
    {
      "cell_type": "code",
      "source": [
        "print('std err b0: ', np.std(b0))\n",
        "print('std err b1: ', np.std(b1))\n"
      ],
      "metadata": {
        "colab": {
          "base_uri": "https://localhost:8080/"
        },
        "id": "RtRcfZpWRQTf",
        "outputId": "6e7d721c-70ac-49cb-8200-b336d3c394f8"
      },
      "execution_count": 27,
      "outputs": [
        {
          "output_type": "stream",
          "name": "stdout",
          "text": [
            "std err b0:  0.031459498449109786\n",
            "std err b1:  0.05969249573606895\n"
          ]
        }
      ]
    },
    {
      "cell_type": "markdown",
      "source": [
        "**BIG QUESTION:  What happens when we add more data?**"
      ],
      "metadata": {
        "id": "VzGo0bsnmT4M"
      }
    },
    {
      "cell_type": "code",
      "source": [
        "# Generate data\n",
        "number_of_points = 2000\n",
        "x = np.random.uniform(0, 1, size=number_of_points)\n",
        "\n",
        "true_a = 1.0\n",
        "true_b = 0.5\n",
        "\n",
        "mu = 0.0\n",
        "sigma = 0.1\n",
        "noise = np.random.normal(loc=mu, scale=sigma, size=number_of_points)\n",
        "\n",
        "y = true_a*x + true_b + noise\n",
        "\n",
        "# Make x into a 2D array\n",
        "X = x.reshape(-1,1)"
      ],
      "metadata": {
        "id": "J8jATFPodk8m"
      },
      "execution_count": 28,
      "outputs": []
    },
    {
      "cell_type": "code",
      "source": [
        "from sklearn.utils import resample\n",
        "\n",
        "X_new, y_new = resample(X, y)\n",
        "reg = LinearRegression().fit(X_new, y_new)\n",
        "y_hat_new = reg.predict(X_new)\n",
        "py.scatter(X_new[:,0],y_new)\n",
        "py.plot(X_new[:,0],y_hat_new)"
      ],
      "metadata": {
        "colab": {
          "base_uri": "https://localhost:8080/",
          "height": 282
        },
        "outputId": "e280715f-9ad7-4e62-e76d-bdd03b031676",
        "id": "gScm-thPdk8n"
      },
      "execution_count": 29,
      "outputs": [
        {
          "output_type": "execute_result",
          "data": {
            "text/plain": [
              "[<matplotlib.lines.Line2D at 0x7fc2166d6ad0>]"
            ]
          },
          "metadata": {},
          "execution_count": 29
        },
        {
          "output_type": "display_data",
          "data": {
            "text/plain": [
              "<Figure size 432x288 with 1 Axes>"
            ],
            "image/png": "[encoded data removed]"
          },
          "metadata": {
            "needs_background": "light"
          }
        }
      ]
    },
    {
      "cell_type": "code",
      "source": [
        "for c in ['r', 'g', 'b']:\n",
        "  X_new, y_new = resample(X, y)\n",
        "  reg = LinearRegression().fit(X_new, y_new)\n",
        "  y_hat_new = reg.predict(X_new)\n",
        "  py.scatter(X_new[:,0], y_new, color=c)\n",
        "  py.plot(X_new[:,0], y_hat_new, color=c)"
      ],
      "metadata": {
        "colab": {
          "base_uri": "https://localhost:8080/",
          "height": 265
        },
        "outputId": "24167738-1661-44fd-9f62-13742f0de0c9",
        "id": "qS9DdAZldk8n"
      },
      "execution_count": 30,
      "outputs": [
        {
          "output_type": "display_data",
          "data": {
            "text/plain": [
              "<Figure size 432x288 with 1 Axes>"
            ],
            "image/png": "[encoded data removed]"
          },
          "metadata": {
            "needs_background": "light"
          }
        }
      ]
    },
    {
      "cell_type": "code",
      "source": [
        "b0_new =[]\n",
        "b1_new = []\n",
        "for i in range(1000):\n",
        "  X_new, y_new = resample(X, y)\n",
        "  reg = LinearRegression().fit(X_new, y_new)\n",
        "  b0_new += [reg.intercept_]\n",
        "  b1_new += [reg.coef_[0]]"
      ],
      "metadata": {
        "id": "19CWksundk8n"
      },
      "execution_count": 31,
      "outputs": []
    },
    {
      "cell_type": "code",
      "source": [
        "py.hist(b0)\n",
        "py.hist(b0_new)"
      ],
      "metadata": {
        "colab": {
          "base_uri": "https://localhost:8080/",
          "height": 352
        },
        "outputId": "4f66cd83-b1a5-44a3-8310-2077fc570d3e",
        "id": "_-FjHtE5dk8n"
      },
      "execution_count": 32,
      "outputs": [
        {
          "output_type": "execute_result",
          "data": {
            "text/plain": [
              "(array([  7.,  19.,  79., 206., 247., 235., 125.,  63.,  16.,   3.]),\n",
              " array([0.48855734, 0.49152921, 0.49450108, 0.49747295, 0.50044482,\n",
              "        0.50341669, 0.50638856, 0.50936043, 0.51233229, 0.51530416,\n",
              "        0.51827603]),\n",
              " <a list of 10 Patch objects>)"
            ]
          },
          "metadata": {},
          "execution_count": 32
        },
        {
          "output_type": "display_data",
          "data": {
            "text/plain": [
              "<Figure size 432x288 with 1 Axes>"
            ],
            "image/png": "[encoded data removed]"
          },
          "metadata": {
            "needs_background": "light"
          }
        }
      ]
    },
    {
      "cell_type": "code",
      "source": [
        "py.hist(b1)\n",
        "py.hist(b1_new)"
      ],
      "metadata": {
        "colab": {
          "base_uri": "https://localhost:8080/",
          "height": 352
        },
        "outputId": "c434ea08-2a4c-4432-87bc-d6a166086b8f",
        "id": "20LpMvPgdk8o"
      },
      "execution_count": 33,
      "outputs": [
        {
          "output_type": "execute_result",
          "data": {
            "text/plain": [
              "(array([ 12.,  24.,  97., 190., 233., 229., 144.,  52.,  17.,   2.]),\n",
              " array([0.96713369, 0.97216716, 0.97720063, 0.9822341 , 0.98726757,\n",
              "        0.99230104, 0.99733451, 1.00236798, 1.00740145, 1.01243492,\n",
              "        1.01746839]),\n",
              " <a list of 10 Patch objects>)"
            ]
          },
          "metadata": {},
          "execution_count": 33
        },
        {
          "output_type": "display_data",
          "data": {
            "text/plain": [
              "<Figure size 432x288 with 1 Axes>"
            ],
            "image/png": "[encoded data removed]"
          },
          "metadata": {
            "needs_background": "light"
          }
        }
      ]
    },
    {
      "cell_type": "code",
      "source": [
        "data = pd.DataFrame({'x':x, 'y':y})\n",
        "results = smf.ols('y ~ x', data=data).fit()\n",
        "print(results.summary())"
      ],
      "metadata": {
        "colab": {
          "base_uri": "https://localhost:8080/"
        },
        "outputId": "4e43a626-8a4b-40d8-9cb9-d7a634ceef23",
        "id": "mHELMGphdk8o"
      },
      "execution_count": 34,
      "outputs": [
        {
          "output_type": "stream",
          "name": "stdout",
          "text": [
            "                            OLS Regression Results                            \n",
            "==============================================================================\n",
            "Dep. Variable:                      y   R-squared:                       0.894\n",
            "Model:                            OLS   Adj. R-squared:                  0.894\n",
            "Method:                 Least Squares   F-statistic:                 1.690e+04\n",
            "Date:                Mon, 13 Jun 2022   Prob (F-statistic):               0.00\n",
            "Time:                        19:07:52   Log-Likelihood:                 1797.8\n",
            "No. Observations:                2000   AIC:                            -3592.\n",
            "Df Residuals:                    1998   BIC:                            -3580.\n",
            "Df Model:                           1                                         \n",
            "Covariance Type:            nonrobust                                         \n",
            "==============================================================================\n",
            "                 coef    std err          t      P>|t|      [0.025      0.975]\n",
            "------------------------------------------------------------------------------\n",
            "Intercept      0.5030      0.004    114.093      0.000       0.494       0.512\n",
            "x              0.9910      0.008    130.017      0.000       0.976       1.006\n",
            "==============================================================================\n",
            "Omnibus:                        0.509   Durbin-Watson:                   1.957\n",
            "Prob(Omnibus):                  0.775   Jarque-Bera (JB):                0.462\n",
            "Skew:                           0.035   Prob(JB):                        0.794\n",
            "Kurtosis:                       3.026   Cond. No.                         4.39\n",
            "==============================================================================\n",
            "\n",
            "Warnings:\n",
            "[1] Standard Errors assume that the covariance matrix of the errors is correctly specified.\n"
          ]
        }
      ]
    },
    {
      "cell_type": "code",
      "source": [
        "print('std err b0: ', np.std(b0_new))\n",
        "print('std err b1: ', np.std(b1_new))\n"
      ],
      "metadata": {
        "colab": {
          "base_uri": "https://localhost:8080/"
        },
        "outputId": "e761f563-cca8-4ff5-c31f-403c04e42dbf",
        "id": "VrpReM5Mdk8o"
      },
      "execution_count": 35,
      "outputs": [
        {
          "output_type": "stream",
          "name": "stdout",
          "text": [
            "std err b0:  0.004493326397137653\n",
            "std err b1:  0.00789994736419022\n"
          ]
        }
      ]
    },
    {
      "cell_type": "markdown",
      "source": [
        "**BIG QUESTION:  What happens when our model is wrong?**"
      ],
      "metadata": {
        "id": "EREBP_19fLMg"
      }
    },
    {
      "cell_type": "code",
      "source": [
        "# Generate data\n",
        "number_of_points = 2000\n",
        "x = np.random.uniform(0, 1, size=number_of_points)\n",
        "\n",
        "true_a = 1.0\n",
        "true_b = 0.5\n",
        "\n",
        "mu = 0.0\n",
        "sigma = 0.1\n",
        "noise = np.random.normal(loc=mu, scale=sigma, size=number_of_points)\n",
        "\n",
        "y = true_a*x**2 + true_b + noise\n",
        "\n",
        "# Make x into a 2D array\n",
        "X = x.reshape(-1,1)"
      ],
      "metadata": {
        "id": "sC24ZOsBfLMh"
      },
      "execution_count": 36,
      "outputs": []
    },
    {
      "cell_type": "code",
      "source": [
        "from sklearn.utils import resample\n",
        "\n",
        "X_new, y_new = resample(X, y)\n",
        "reg = LinearRegression().fit(X_new, y_new)\n",
        "y_hat_new = reg.predict(X_new)\n",
        "py.scatter(X_new[:,0],y_new)\n",
        "py.plot(X_new[:,0],y_hat_new)"
      ],
      "metadata": {
        "colab": {
          "base_uri": "https://localhost:8080/",
          "height": 282
        },
        "outputId": "9e8a05d5-4088-4cfb-c33a-8ba3e5bf8f7a",
        "id": "SU8Na7H7fLMh"
      },
      "execution_count": 37,
      "outputs": [
        {
          "output_type": "execute_result",
          "data": {
            "text/plain": [
              "[<matplotlib.lines.Line2D at 0x7fc2145a9290>]"
            ]
          },
          "metadata": {},
          "execution_count": 37
        },
        {
          "output_type": "display_data",
          "data": {
            "text/plain": [
              "<Figure size 432x288 with 1 Axes>"
            ],
            "image/png": "[encoded data removed]"
          },
          "metadata": {
            "needs_background": "light"
          }
        }
      ]
    },
    {
      "cell_type": "code",
      "source": [
        "for c in ['r', 'g', 'b']:\n",
        "  X_new, y_new = resample(X, y)\n",
        "  reg = LinearRegression().fit(X_new, y_new)\n",
        "  y_hat_new = reg.predict(X_new)\n",
        "  py.scatter(X_new[:,0], y_new, color=c)\n",
        "  py.plot(X_new[:,0], y_hat_new, color=c)"
      ],
      "metadata": {
        "colab": {
          "base_uri": "https://localhost:8080/",
          "height": 265
        },
        "outputId": "12ee5c04-eea1-46c7-f64a-00309b10118b",
        "id": "I4J-7AIOfLMh"
      },
      "execution_count": 38,
      "outputs": [
        {
          "output_type": "display_data",
          "data": {
            "text/plain": [
              "<Figure size 432x288 with 1 Axes>"
            ],
            "image/png": "[encoded data removed]"
          },
          "metadata": {
            "needs_background": "light"
          }
        }
      ]
    },
    {
      "cell_type": "code",
      "source": [
        "b0_new =[]\n",
        "b1_new = []\n",
        "for i in range(1000):\n",
        "  X_new, y_new = resample(X, y)\n",
        "  reg = LinearRegression().fit(X_new, y_new)\n",
        "  b0_new += [reg.intercept_]\n",
        "  b1_new += [reg.coef_[0]]"
      ],
      "metadata": {
        "id": "6yXpyYEbfLMh"
      },
      "execution_count": 39,
      "outputs": []
    },
    {
      "cell_type": "code",
      "source": [
        "py.hist(b0_new)"
      ],
      "metadata": {
        "colab": {
          "base_uri": "https://localhost:8080/",
          "height": 354
        },
        "outputId": "dc03ada3-d336-4b6f-a8ad-d68f616e94a8",
        "id": "kmsvGma0fLMh"
      },
      "execution_count": 40,
      "outputs": [
        {
          "output_type": "execute_result",
          "data": {
            "text/plain": [
              "(array([  4.,  24.,  61., 157., 229., 241., 172.,  78.,  24.,  10.]),\n",
              " array([0.30196859, 0.30569562, 0.30942264, 0.31314966, 0.31687668,\n",
              "        0.3206037 , 0.32433073, 0.32805775, 0.33178477, 0.33551179,\n",
              "        0.33923882]),\n",
              " <a list of 10 Patch objects>)"
            ]
          },
          "metadata": {},
          "execution_count": 40
        },
        {
          "output_type": "display_data",
          "data": {
            "text/plain": [
              "<Figure size 432x288 with 1 Axes>"
            ],
            "image/png": "[encoded data removed]"
          },
          "metadata": {
            "needs_background": "light"
          }
        }
      ]
    },
    {
      "cell_type": "code",
      "source": [
        "py.hist(b1_new)"
      ],
      "metadata": {
        "colab": {
          "base_uri": "https://localhost:8080/",
          "height": 352
        },
        "outputId": "7d8e9661-85d5-49e4-a621-51b1941c2710",
        "id": "dSppC0-JfLMh"
      },
      "execution_count": 41,
      "outputs": [
        {
          "output_type": "execute_result",
          "data": {
            "text/plain": [
              "(array([  1.,   7.,  26.,  64., 193., 238., 271., 139.,  39.,  22.]),\n",
              " array([0.97889344, 0.98601544, 0.99313745, 1.00025945, 1.00738146,\n",
              "        1.01450346, 1.02162547, 1.02874747, 1.03586948, 1.04299148,\n",
              "        1.05011349]),\n",
              " <a list of 10 Patch objects>)"
            ]
          },
          "metadata": {},
          "execution_count": 41
        },
        {
          "output_type": "display_data",
          "data": {
            "text/plain": [
              "<Figure size 432x288 with 1 Axes>"
            ],
            "image/png": "[encoded data removed]"
          },
          "metadata": {
            "needs_background": "light"
          }
        }
      ]
    },
    {
      "cell_type": "code",
      "source": [
        "data = pd.DataFrame({'x':x, 'y':y})\n",
        "results = smf.ols('y ~ x', data=data).fit()\n",
        "print(results.summary())"
      ],
      "metadata": {
        "colab": {
          "base_uri": "https://localhost:8080/"
        },
        "outputId": "dbac8303-f643-4f35-ef7d-f1de05853ac0",
        "id": "s3PZEWVFfLMi"
      },
      "execution_count": 42,
      "outputs": [
        {
          "output_type": "stream",
          "name": "stdout",
          "text": [
            "                            OLS Regression Results                            \n",
            "==============================================================================\n",
            "Dep. Variable:                      y   R-squared:                       0.845\n",
            "Model:                            OLS   Adj. R-squared:                  0.845\n",
            "Method:                 Least Squares   F-statistic:                 1.092e+04\n",
            "Date:                Mon, 13 Jun 2022   Prob (F-statistic):               0.00\n",
            "Time:                        19:07:58   Log-Likelihood:                 1323.5\n",
            "No. Observations:                2000   AIC:                            -2643.\n",
            "Df Residuals:                    1998   BIC:                            -2632.\n",
            "Df Model:                           1                                         \n",
            "Covariance Type:            nonrobust                                         \n",
            "==============================================================================\n",
            "                 coef    std err          t      P>|t|      [0.025      0.975]\n",
            "------------------------------------------------------------------------------\n",
            "Intercept      0.3213      0.006     56.281      0.000       0.310       0.332\n",
            "x              1.0200      0.010    104.506      0.000       1.001       1.039\n",
            "==============================================================================\n",
            "Omnibus:                        6.509   Durbin-Watson:                   1.957\n",
            "Prob(Omnibus):                  0.039   Jarque-Bera (JB):                6.543\n",
            "Skew:                           0.128   Prob(JB):                       0.0379\n",
            "Kurtosis:                       2.888   Cond. No.                         4.47\n",
            "==============================================================================\n",
            "\n",
            "Warnings:\n",
            "[1] Standard Errors assume that the covariance matrix of the errors is correctly specified.\n"
          ]
        }
      ]
    },
    {
      "cell_type": "code",
      "source": [
        "print('std err b0: ', np.std(b0_new))\n",
        "print('std err b1: ', np.std(b1_new))\n"
      ],
      "metadata": {
        "colab": {
          "base_uri": "https://localhost:8080/"
        },
        "outputId": "e5ab6b07-31a4-40b2-d266-43ba3a1ec1ea",
        "id": "xVTTz9UnfLMi"
      },
      "execution_count": 43,
      "outputs": [
        {
          "output_type": "stream",
          "name": "stdout",
          "text": [
            "std err b0:  0.005956249795037275\n",
            "std err b1:  0.01043953100124386\n"
          ]
        }
      ]
    },
    {
      "cell_type": "markdown",
      "source": [
        "**BIG QUESTION:  What happens when our model is wrong is a different way?**"
      ],
      "metadata": {
        "id": "MnMaCM3FfwkW"
      }
    },
    {
      "cell_type": "code",
      "source": [
        "# Generate data\n",
        "number_of_points = 200\n",
        "x = np.random.uniform(0, 1, size=number_of_points)\n",
        "\n",
        "true_a = 1.0\n",
        "true_b = 0.5\n",
        "\n",
        "mu = 0.0\n",
        "sigma = 0.1\n",
        "noise = np.random.normal(loc=mu, scale=sigma, size=number_of_points)\n",
        "\n",
        "y = true_a*x**2 + true_b + noise*x*5\n",
        "\n",
        "# Make x into a 2D array\n",
        "X = x.reshape(-1,1)"
      ],
      "metadata": {
        "id": "jKAy3Dc-fwkW"
      },
      "execution_count": 44,
      "outputs": []
    },
    {
      "cell_type": "code",
      "source": [
        "from sklearn.utils import resample\n",
        "\n",
        "X_new, y_new = resample(X, y)\n",
        "reg = LinearRegression().fit(X_new, y_new)\n",
        "y_hat_new = reg.predict(X_new)\n",
        "py.scatter(X_new[:,0],y_new)\n",
        "py.plot(X_new[:,0],y_hat_new)"
      ],
      "metadata": {
        "colab": {
          "base_uri": "https://localhost:8080/",
          "height": 283
        },
        "outputId": "37bc5c85-fc0f-4aa4-be45-f9edc0d16bbd",
        "id": "PxiXeV8GfwkW"
      },
      "execution_count": 45,
      "outputs": [
        {
          "output_type": "execute_result",
          "data": {
            "text/plain": [
              "[<matplotlib.lines.Line2D at 0x7fc2143a4e50>]"
            ]
          },
          "metadata": {},
          "execution_count": 45
        },
        {
          "output_type": "display_data",
          "data": {
            "text/plain": [
              "<Figure size 432x288 with 1 Axes>"
            ],
            "image/png": "[encoded data removed]"
          },
          "metadata": {
            "needs_background": "light"
          }
        }
      ]
    },
    {
      "cell_type": "code",
      "source": [
        "for c in ['r', 'g', 'b']:\n",
        "  X_new, y_new = resample(X, y)\n",
        "  reg = LinearRegression().fit(X_new, y_new)\n",
        "  y_hat_new = reg.predict(X_new)\n",
        "  py.scatter(X_new[:,0], y_new, color=c)\n",
        "  py.plot(X_new[:,0], y_hat_new, color=c)"
      ],
      "metadata": {
        "colab": {
          "base_uri": "https://localhost:8080/",
          "height": 266
        },
        "outputId": "2505125b-6a54-4f28-9a56-15567a35b934",
        "id": "oYMaWjDyfwkW"
      },
      "execution_count": 46,
      "outputs": [
        {
          "output_type": "display_data",
          "data": {
            "text/plain": [
              "<Figure size 432x288 with 1 Axes>"
            ],
            "image/png": "[encoded data removed]"
          },
          "metadata": {
            "needs_background": "light"
          }
        }
      ]
    },
    {
      "cell_type": "code",
      "source": [
        "b0_new =[]\n",
        "b1_new = []\n",
        "for i in range(1000):\n",
        "  X_new, y_new = resample(X, y)\n",
        "  reg = LinearRegression().fit(X_new, y_new)\n",
        "  b0_new += [reg.intercept_]\n",
        "  b1_new += [reg.coef_[0]]"
      ],
      "metadata": {
        "id": "RcGQ3dGgfwkW"
      },
      "execution_count": 47,
      "outputs": []
    },
    {
      "cell_type": "code",
      "source": [
        "py.hist(b0_new)"
      ],
      "metadata": {
        "colab": {
          "base_uri": "https://localhost:8080/",
          "height": 352
        },
        "outputId": "5211eac4-72d5-437e-cb18-4ba42becc90d",
        "id": "nXtdIiZkfwkX"
      },
      "execution_count": 48,
      "outputs": [
        {
          "output_type": "execute_result",
          "data": {
            "text/plain": [
              "(array([  4.,  22.,  60., 113., 177., 238., 206., 116.,  52.,  12.]),\n",
              " array([0.17607224, 0.19623961, 0.21640698, 0.23657435, 0.25674172,\n",
              "        0.27690909, 0.29707646, 0.31724383, 0.33741121, 0.35757858,\n",
              "        0.37774595]),\n",
              " <a list of 10 Patch objects>)"
            ]
          },
          "metadata": {},
          "execution_count": 48
        },
        {
          "output_type": "display_data",
          "data": {
            "text/plain": [
              "<Figure size 432x288 with 1 Axes>"
            ],
            "image/png": "[encoded data removed]"
          },
          "metadata": {
            "needs_background": "light"
          }
        }
      ]
    },
    {
      "cell_type": "code",
      "source": [
        "py.hist(b1_new)"
      ],
      "metadata": {
        "colab": {
          "base_uri": "https://localhost:8080/",
          "height": 352
        },
        "outputId": "e9970011-c281-45ff-95b4-056fa1a8e239",
        "id": "-bOdMORsfwkX"
      },
      "execution_count": 49,
      "outputs": [
        {
          "output_type": "execute_result",
          "data": {
            "text/plain": [
              "(array([  4.,  15.,  38., 132., 201., 249., 199., 106.,  43.,  13.]),\n",
              " array([0.77226631, 0.83155536, 0.8908444 , 0.95013345, 1.00942249,\n",
              "        1.06871154, 1.12800059, 1.18728963, 1.24657868, 1.30586772,\n",
              "        1.36515677]),\n",
              " <a list of 10 Patch objects>)"
            ]
          },
          "metadata": {},
          "execution_count": 49
        },
        {
          "output_type": "display_data",
          "data": {
            "text/plain": [
              "<Figure size 432x288 with 1 Axes>"
            ],
            "image/png": "[encoded data removed]"
          },
          "metadata": {
            "needs_background": "light"
          }
        }
      ]
    },
    {
      "cell_type": "code",
      "source": [
        "data = pd.DataFrame({'x':x, 'y':y})\n",
        "results = smf.ols('y ~ x', data=data).fit()\n",
        "print(results.summary())"
      ],
      "metadata": {
        "colab": {
          "base_uri": "https://localhost:8080/"
        },
        "outputId": "5425809f-637a-41cf-c265-215cc5860526",
        "id": "01849Q0OfwkX"
      },
      "execution_count": 50,
      "outputs": [
        {
          "output_type": "stream",
          "name": "stdout",
          "text": [
            "                            OLS Regression Results                            \n",
            "==============================================================================\n",
            "Dep. Variable:                      y   R-squared:                       0.491\n",
            "Model:                            OLS   Adj. R-squared:                  0.488\n",
            "Method:                 Least Squares   F-statistic:                     191.0\n",
            "Date:                Mon, 13 Jun 2022   Prob (F-statistic):           7.43e-31\n",
            "Time:                        19:08:03   Log-Likelihood:                -57.597\n",
            "No. Observations:                 200   AIC:                             119.2\n",
            "Df Residuals:                     198   BIC:                             125.8\n",
            "Df Model:                           1                                         \n",
            "Covariance Type:            nonrobust                                         \n",
            "==============================================================================\n",
            "                 coef    std err          t      P>|t|      [0.025      0.975]\n",
            "------------------------------------------------------------------------------\n",
            "Intercept      0.2859      0.046      6.271      0.000       0.196       0.376\n",
            "x              1.0961      0.079     13.820      0.000       0.940       1.253\n",
            "==============================================================================\n",
            "Omnibus:                       28.772   Durbin-Watson:                   1.982\n",
            "Prob(Omnibus):                  0.000   Jarque-Bera (JB):               78.662\n",
            "Skew:                           0.579   Prob(JB):                     8.30e-18\n",
            "Kurtosis:                       5.846   Cond. No.                         4.37\n",
            "==============================================================================\n",
            "\n",
            "Warnings:\n",
            "[1] Standard Errors assume that the covariance matrix of the errors is correctly specified.\n"
          ]
        }
      ]
    },
    {
      "cell_type": "code",
      "source": [
        "print('std err b0: ', np.std(b0_new))\n",
        "print('std err b1: ', np.std(b1_new))\n"
      ],
      "metadata": {
        "colab": {
          "base_uri": "https://localhost:8080/"
        },
        "outputId": "39a987a8-d55e-4399-ab37-396c44d670a3",
        "id": "dDj7Gp-_fwkX"
      },
      "execution_count": 51,
      "outputs": [
        {
          "output_type": "stream",
          "name": "stdout",
          "text": [
            "std err b0:  0.03437892304485404\n",
            "std err b1:  0.09514953565318658\n"
          ]
        }
      ]
    },
    {
      "cell_type": "markdown",
      "source": [
        "## Pytorch:  A special bonus for those who want to do more advanced techniques"
      ],
      "metadata": {
        "id": "LVn5CCmSSUyW"
      }
    },
    {
      "cell_type": "markdown",
      "source": [
        "> PyTorch enables fast, flexible experimentation and efficient production through a user-friendly front-end, distributed training, and ecosystem of tools and libraries."
      ],
      "metadata": {
        "id": "Fh8PWnTKUY-6"
      }
    },
    {
      "cell_type": "markdown",
      "source": [
        "https://pytorch.org/"
      ],
      "metadata": {
        "id": "gOtZ9xkuULku"
      }
    },
    {
      "cell_type": "markdown",
      "source": [
        "https://pytorch.org/tutorials/"
      ],
      "metadata": {
        "id": "16gkc4E_UfYi"
      }
    },
    {
      "cell_type": "markdown",
      "source": [
        "https://towardsdatascience.com/linear-regression-with-pytorch-eb6dedead817"
      ],
      "metadata": {
        "id": "sASCQl98FprV"
      }
    },
    {
      "cell_type": "code",
      "source": [
        "import torch\n",
        "from torch.autograd import Variable\n"
      ],
      "metadata": {
        "id": "IycJBWAvFn3t"
      },
      "execution_count": 52,
      "outputs": []
    },
    {
      "cell_type": "code",
      "source": [
        "class linearRegression(torch.nn.Module):\n",
        "    def __init__(self, inputSize, outputSize):\n",
        "        super(linearRegression, self).__init__()\n",
        "        self.linear = torch.nn.Linear(inputSize, outputSize)\n",
        "\n",
        "    def forward(self, x):\n",
        "        out = self.linear(x)\n",
        "        return out"
      ],
      "metadata": {
        "id": "wQAoua4XT7qk"
      },
      "execution_count": 53,
      "outputs": []
    },
    {
      "cell_type": "code",
      "source": [
        "# Generate data\n",
        "number_of_points = 100\n",
        "x = np.random.uniform(0, 1, size=number_of_points)\n",
        "\n",
        "true_a = 1.0\n",
        "true_b = 0.5\n",
        "\n",
        "mu = 0.0\n",
        "sigma = 0.1\n",
        "noise = np.random.normal(loc=mu, scale=sigma, size=number_of_points)\n",
        "\n",
        "y = true_a*x + true_b + noise"
      ],
      "metadata": {
        "id": "AN1Mjec5SAmC"
      },
      "execution_count": 54,
      "outputs": []
    },
    {
      "cell_type": "code",
      "source": [
        "x_train = x.reshape(-1,1).astype(np.float32)\n",
        "y_train = y.reshape(-1,1).astype(np.float32)"
      ],
      "metadata": {
        "id": "Fxl5sLOSSHFT"
      },
      "execution_count": 55,
      "outputs": []
    },
    {
      "cell_type": "code",
      "source": [
        "inputDim = 1        # takes variable 'x' \n",
        "outputDim = 1       # takes variable 'y'\n",
        "learningRate = 0.01 \n",
        "epochs = 1000"
      ],
      "metadata": {
        "id": "vzAjsZKJSQo3"
      },
      "execution_count": 56,
      "outputs": []
    },
    {
      "cell_type": "code",
      "source": [
        "model = linearRegression(inputDim, outputDim)\n",
        "##### For GPU #######\n",
        "if torch.cuda.is_available():\n",
        "    model.cuda()"
      ],
      "metadata": {
        "id": "0gGeZIEnSLb7"
      },
      "execution_count": 57,
      "outputs": []
    },
    {
      "cell_type": "code",
      "source": [
        "criterion = torch.nn.MSELoss() \n",
        "optimizer = torch.optim.SGD(model.parameters(), lr=learningRate)"
      ],
      "metadata": {
        "id": "WCIOYAh3ST6Z"
      },
      "execution_count": 58,
      "outputs": []
    },
    {
      "cell_type": "code",
      "source": [
        "loss_list = []\n",
        "for epoch in range(epochs):\n",
        "    # Converting inputs and labels to Variable\n",
        "    if torch.cuda.is_available():\n",
        "        inputs = Variable(torch.from_numpy(x_train).cuda())\n",
        "        labels = Variable(torch.from_numpy(y_train).cuda())\n",
        "    else:\n",
        "        inputs = Variable(torch.from_numpy(x_train))\n",
        "        labels = Variable(torch.from_numpy(y_train))\n",
        "\n",
        "    # Clear gradient buffers because we don't want any gradient from previous epoch to carry forward, dont want to cummulate gradients\n",
        "    optimizer.zero_grad()\n",
        "\n",
        "    # get output from the model, given the inputs\n",
        "    outputs = model(inputs)\n",
        "\n",
        "    # get loss for the predicted output\n",
        "    loss = criterion(outputs, labels)\n",
        "    # get gradients w.r.t to parameters\n",
        "    loss.backward()\n",
        "\n",
        "    # update parameters\n",
        "    optimizer.step()\n",
        "\n",
        "    loss_list += [loss.item()]"
      ],
      "metadata": {
        "id": "Oxa5Vi83R948"
      },
      "execution_count": 59,
      "outputs": []
    },
    {
      "cell_type": "code",
      "source": [
        "py.plot(loss_list)"
      ],
      "metadata": {
        "colab": {
          "base_uri": "https://localhost:8080/",
          "height": 282
        },
        "id": "-hsCKyu0T2jK",
        "outputId": "e12698a6-9c23-41a4-f2d3-c4d6b6c16231"
      },
      "execution_count": 60,
      "outputs": [
        {
          "output_type": "execute_result",
          "data": {
            "text/plain": [
              "[<matplotlib.lines.Line2D at 0x7fc15b60f810>]"
            ]
          },
          "metadata": {},
          "execution_count": 60
        },
        {
          "output_type": "display_data",
          "data": {
            "text/plain": [
              "<Figure size 432x288 with 1 Axes>"
            ],
            "image/png": "[encoded data removed]"
          },
          "metadata": {
            "needs_background": "light"
          }
        }
      ]
    },
    {
      "cell_type": "code",
      "source": [
        "with torch.no_grad(): # we don't need gradients in the testing phase\n",
        "    if torch.cuda.is_available():\n",
        "        predicted = model(Variable(torch.from_numpy(x_train).cuda())).cpu().data.numpy()\n",
        "    else:\n",
        "        predicted = model(Variable(torch.from_numpy(x_train))).data.numpy()\n",
        "\n",
        "plt.clf()\n",
        "plt.plot(x_train, y_train, 'go', label='True data', alpha=0.5)\n",
        "plt.plot(x_train, predicted, '--', label='Predictions', alpha=0.5)\n",
        "plt.legend(loc='best')\n",
        "plt.show()"
      ],
      "metadata": {
        "colab": {
          "base_uri": "https://localhost:8080/",
          "height": 265
        },
        "id": "ayItS4ZPR-HL",
        "outputId": "ffe63ccd-9d48-41cf-b415-ff1e54bafd1b"
      },
      "execution_count": 61,
      "outputs": [
        {
          "output_type": "display_data",
          "data": {
            "text/plain": [
              "<Figure size 432x288 with 1 Axes>"
            ],
            "image/png": "[encoded data removed]"
          },
          "metadata": {
            "needs_background": "light"
          }
        }
      ]
    },
    {
      "cell_type": "markdown",
      "source": [
        ""
      ],
      "metadata": {
        "id": "dJtAATBUEHQQ"
      }
    }
  ],
  "metadata": {
    "anaconda-cloud": {},
    "kernelspec": {
      "display_name": "Python 3",
      "language": "python",
      "name": "python3"
    },
    "language_info": {
      "codemirror_mode": {
        "name": "ipython",
        "version": 3
      },
      "file_extension": ".py",
      "mimetype": "text/x-python",
      "name": "python",
      "nbconvert_exporter": "python",
      "pygments_lexer": "ipython3",
      "version": "3.6.8"
    },
    "colab": {
      "name": "Bokeh class ideas.ipynb",
      "provenance": [],
      "toc_visible": true
    }
  },
  "nbformat": 4,
  "nbformat_minor": 0
}